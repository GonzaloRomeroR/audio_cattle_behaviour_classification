{
 "cells": [
  {
   "cell_type": "markdown",
   "metadata": {},
   "source": [
    "### Training"
   ]
  },
  {
   "cell_type": "code",
   "execution_count": 1,
   "metadata": {},
   "outputs": [
    {
     "name": "stderr",
     "output_type": "stream",
     "text": [
      "c:\\Users\\gonza\\AppData\\Local\\Programs\\Python\\Python310\\lib\\site-packages\\tqdm\\auto.py:22: TqdmWarning: IProgress not found. Please update jupyter and ipywidgets. See https://ipywidgets.readthedocs.io/en/stable/user_install.html\n",
      "  from .autonotebook import tqdm as notebook_tqdm\n"
     ]
    },
    {
     "data": {
      "text/plain": [
       "<module 'utils.filter_utils' from 'c:\\\\Users\\\\gonza\\\\OneDrive\\\\Documentos\\\\Gonzalo\\\\Especializacion\\\\inteligencia_embebida\\\\esp32_loopback\\\\python\\\\utils\\\\filter_utils.py'>"
      ]
     },
     "execution_count": 1,
     "metadata": {},
     "output_type": "execute_result"
    }
   ],
   "source": [
    "import importlib\n",
    "\n",
    "import utils.sound_utils as su\n",
    "import utils.train_utils as tu\n",
    "import utils.filter_utils as filter\n",
    "import utils.plot_utils as pu\n",
    "\n",
    "from sklearn import tree\n",
    "from sklearn import tree\n",
    "from sklearn.tree import DecisionTreeClassifier\n",
    "from sklearn.model_selection import train_test_split\n",
    "\n",
    "\n",
    "import wget\n",
    "\n",
    "import os\n",
    "import sys\n",
    "import importlib\n",
    "import pickle\n",
    "import numpy as np\n",
    "import pandas as pd\n",
    "\n",
    "importlib.reload(su)\n",
    "importlib.reload(tu)\n",
    "importlib.reload(pu)\n",
    "importlib.reload(filter)\n"
   ]
  },
  {
   "cell_type": "code",
   "execution_count": 32,
   "metadata": {},
   "outputs": [],
   "source": [
    "\n",
    "#wget.download('https://www.dropbox.com/s/d12x5vknrk9yek1/data.zip')\n",
    "#wget.download('https://www.dropbox.com/s/qoyduoa5prupyzr/test_files.csv')\n",
    "#wget.download('https://www.dropbox.com/s/z1cwznln0gfpw32/train_labels.csv')"
   ]
  },
  {
   "cell_type": "code",
   "execution_count": 6,
   "metadata": {},
   "outputs": [],
   "source": [
    "labels = {\n",
    "    0: \"bite\",\n",
    "    1: \"chew\",\n",
    "    2: \"chew_byte\"\n",
    "}"
   ]
  },
  {
   "cell_type": "code",
   "execution_count": 7,
   "metadata": {},
   "outputs": [],
   "source": [
    "train_labels = pd.read_csv(\"data/train_labels.csv\")\n",
    "test_labels = pd.read_csv(\"data/test_files.csv\")"
   ]
  },
  {
   "cell_type": "code",
   "execution_count": 8,
   "metadata": {},
   "outputs": [
    {
     "data": {
      "text/html": [
       "<div>\n",
       "<style scoped>\n",
       "    .dataframe tbody tr th:only-of-type {\n",
       "        vertical-align: middle;\n",
       "    }\n",
       "\n",
       "    .dataframe tbody tr th {\n",
       "        vertical-align: top;\n",
       "    }\n",
       "\n",
       "    .dataframe thead th {\n",
       "        text-align: right;\n",
       "    }\n",
       "</style>\n",
       "<table border=\"1\" class=\"dataframe\">\n",
       "  <thead>\n",
       "    <tr style=\"text-align: right;\">\n",
       "      <th></th>\n",
       "      <th>filename</th>\n",
       "      <th>pasture</th>\n",
       "      <th>height</th>\n",
       "      <th>label</th>\n",
       "    </tr>\n",
       "  </thead>\n",
       "  <tbody>\n",
       "    <tr>\n",
       "      <th>0</th>\n",
       "      <td>4</td>\n",
       "      <td>alfalfa</td>\n",
       "      <td>tall</td>\n",
       "      <td>2</td>\n",
       "    </tr>\n",
       "    <tr>\n",
       "      <th>1</th>\n",
       "      <td>9</td>\n",
       "      <td>alfalfa</td>\n",
       "      <td>tall</td>\n",
       "      <td>2</td>\n",
       "    </tr>\n",
       "    <tr>\n",
       "      <th>2</th>\n",
       "      <td>10</td>\n",
       "      <td>alfalfa</td>\n",
       "      <td>tall</td>\n",
       "      <td>1</td>\n",
       "    </tr>\n",
       "    <tr>\n",
       "      <th>3</th>\n",
       "      <td>11</td>\n",
       "      <td>alfalfa</td>\n",
       "      <td>tall</td>\n",
       "      <td>2</td>\n",
       "    </tr>\n",
       "    <tr>\n",
       "      <th>4</th>\n",
       "      <td>13</td>\n",
       "      <td>alfalfa</td>\n",
       "      <td>tall</td>\n",
       "      <td>2</td>\n",
       "    </tr>\n",
       "  </tbody>\n",
       "</table>\n",
       "</div>"
      ],
      "text/plain": [
       "   filename  pasture height  label\n",
       "0         4  alfalfa   tall      2\n",
       "1         9  alfalfa   tall      2\n",
       "2        10  alfalfa   tall      1\n",
       "3        11  alfalfa   tall      2\n",
       "4        13  alfalfa   tall      2"
      ]
     },
     "execution_count": 8,
     "metadata": {},
     "output_type": "execute_result"
    }
   ],
   "source": [
    "train_labels.head()"
   ]
  },
  {
   "cell_type": "code",
   "execution_count": 36,
   "metadata": {},
   "outputs": [
    {
     "data": {
      "text/html": [
       "<div>\n",
       "<style scoped>\n",
       "    .dataframe tbody tr th:only-of-type {\n",
       "        vertical-align: middle;\n",
       "    }\n",
       "\n",
       "    .dataframe tbody tr th {\n",
       "        vertical-align: top;\n",
       "    }\n",
       "\n",
       "    .dataframe thead th {\n",
       "        text-align: right;\n",
       "    }\n",
       "</style>\n",
       "<table border=\"1\" class=\"dataframe\">\n",
       "  <thead>\n",
       "    <tr style=\"text-align: right;\">\n",
       "      <th></th>\n",
       "      <th>filename</th>\n",
       "    </tr>\n",
       "  </thead>\n",
       "  <tbody>\n",
       "    <tr>\n",
       "      <th>0</th>\n",
       "      <td>1</td>\n",
       "    </tr>\n",
       "    <tr>\n",
       "      <th>1</th>\n",
       "      <td>2</td>\n",
       "    </tr>\n",
       "    <tr>\n",
       "      <th>2</th>\n",
       "      <td>3</td>\n",
       "    </tr>\n",
       "    <tr>\n",
       "      <th>3</th>\n",
       "      <td>5</td>\n",
       "    </tr>\n",
       "    <tr>\n",
       "      <th>4</th>\n",
       "      <td>6</td>\n",
       "    </tr>\n",
       "  </tbody>\n",
       "</table>\n",
       "</div>"
      ],
      "text/plain": [
       "   filename\n",
       "0         1\n",
       "1         2\n",
       "2         3\n",
       "3         5\n",
       "4         6"
      ]
     },
     "execution_count": 36,
     "metadata": {},
     "output_type": "execute_result"
    }
   ],
   "source": [
    "test_labels.head()"
   ]
  },
  {
   "cell_type": "code",
   "execution_count": 37,
   "metadata": {},
   "outputs": [],
   "source": [
    "dataset = tu.upload_dataset(\"data/audios\")"
   ]
  },
  {
   "cell_type": "code",
   "execution_count": 38,
   "metadata": {},
   "outputs": [
    {
     "data": {
      "text/plain": [
       "3083"
      ]
     },
     "execution_count": 38,
     "metadata": {},
     "output_type": "execute_result"
    }
   ],
   "source": [
    "len(dataset)"
   ]
  },
  {
   "cell_type": "code",
   "execution_count": null,
   "metadata": {},
   "outputs": [],
   "source": [
    "sample_rate = 22050\n",
    "f_cutoff = 5\n",
    "f_norm = f_cutoff / sample_rate\n",
    "window_size = (0.196202 + f_norm ** 2) ** 0.5 / f_norm\n",
    "\n",
    "filter_ma = filter.MovingAverage(window_size=int(window_size))\n",
    "filtered_data = []\n",
    "\n",
    "\n",
    "for _, audio in dataset:\n",
    "    filtered_aux = []\n",
    "    for value in audio:\n",
    "        absolute = abs(value) if abs(value) >= 0 else np.iinfo(value.dtype).max\n",
    "        filtered_aux.append(filter_ma.calculate_ma(absolute))\n",
    "    filtered_data.append(filtered_aux)\n",
    "    \n",
    "    "
   ]
  },
  {
   "cell_type": "code",
   "execution_count": 12,
   "metadata": {},
   "outputs": [
    {
     "ename": "NameError",
     "evalue": "name 'filtered_data' is not defined",
     "output_type": "error",
     "traceback": [
      "\u001b[1;31m---------------------------------------------------------------------------\u001b[0m",
      "\u001b[1;31mNameError\u001b[0m                                 Traceback (most recent call last)",
      "\u001b[1;32mc:\\Users\\gonza\\OneDrive\\Documentos\\Gonzalo\\Especializacion\\inteligencia_embebida\\esp32_loopback\\python\\sound_classify_train.ipynb Cell 10\u001b[0m in \u001b[0;36m<cell line: 1>\u001b[1;34m()\u001b[0m\n\u001b[0;32m      <a href='vscode-notebook-cell:/c%3A/Users/gonza/OneDrive/Documentos/Gonzalo/Especializacion/inteligencia_embebida/esp32_loopback/python/sound_classify_train.ipynb#X12sZmlsZQ%3D%3D?line=0'>1</a>\u001b[0m \u001b[39mwith\u001b[39;00m \u001b[39mopen\u001b[39m(\u001b[39m'\u001b[39m\u001b[39mdata/filtered_data.pkl\u001b[39m\u001b[39m'\u001b[39m, \u001b[39m'\u001b[39m\u001b[39mwb\u001b[39m\u001b[39m'\u001b[39m) \u001b[39mas\u001b[39;00m f:\n\u001b[1;32m----> <a href='vscode-notebook-cell:/c%3A/Users/gonza/OneDrive/Documentos/Gonzalo/Especializacion/inteligencia_embebida/esp32_loopback/python/sound_classify_train.ipynb#X12sZmlsZQ%3D%3D?line=1'>2</a>\u001b[0m     pickle\u001b[39m.\u001b[39mdump(filtered_data, f)\n",
      "\u001b[1;31mNameError\u001b[0m: name 'filtered_data' is not defined"
     ]
    }
   ],
   "source": [
    "with open('data/filtered_data.pkl', 'wb') as f:\n",
    "    pickle.dump(filtered_data, f)"
   ]
  },
  {
   "cell_type": "code",
   "execution_count": null,
   "metadata": {},
   "outputs": [
    {
     "data": {
      "image/png": "[encoded data removed]",
      "text/plain": [
       "<Figure size 432x288 with 1 Axes>"
      ]
     },
     "metadata": {
      "needs_background": "light"
     },
     "output_type": "display_data"
    }
   ],
   "source": [
    "from utils.sound_utils import plot_audio\n",
    "\n",
    "plot_audio(filtered_data[0], sample_rate)"
   ]
  },
  {
   "cell_type": "code",
   "execution_count": null,
   "metadata": {},
   "outputs": [],
   "source": [
    "noise_gate_data = []\n",
    "noise_gate = su.NoiseGate(open_threshold=1500, close_threshold=1000, hold=0)\n",
    "for data in filtered_data:\n",
    "    filtered_data_list, init, end = noise_gate.split(data, sample_rate)\n",
    "    if len(filtered_data_list) == 1:\n",
    "        noise_gate_data.append(filtered_data_list[0])\n",
    "    elif len(filtered_data_list) > 0:\n",
    "        noise_gate_data.append(filtered_data_list[0])\n",
    "    else:\n",
    "        noise_gate_data.append([])"
   ]
  },
  {
   "cell_type": "code",
   "execution_count": null,
   "metadata": {},
   "outputs": [
    {
     "data": {
      "image/png": "[encoded data removed]",
      "text/plain": [
       "<Figure size 432x288 with 1 Axes>"
      ]
     },
     "metadata": {
      "needs_background": "light"
     },
     "output_type": "display_data"
    }
   ],
   "source": [
    "plot_audio(noise_gate_data[0], sample_rate)"
   ]
  },
  {
   "cell_type": "code",
   "execution_count": null,
   "metadata": {},
   "outputs": [],
   "source": [
    "extracted_data = []\n",
    "for data in noise_gate_data:\n",
    "    extractor = su.FeatureExtractor(data, sample_rate)\n",
    "    extracted_data.append(extractor.extract_features())"
   ]
  },
  {
   "cell_type": "code",
   "execution_count": null,
   "metadata": {},
   "outputs": [],
   "source": [
    "with open('data/extracted_data.pkl', 'wb') as f:\n",
    "    pickle.dump(extracted_data, f)"
   ]
  },
  {
   "cell_type": "code",
   "execution_count": 3,
   "metadata": {},
   "outputs": [],
   "source": [
    "file = open('data/extracted_data.pkl', 'rb')\n",
    "extracted_data = pickle.load(file)"
   ]
  },
  {
   "cell_type": "code",
   "execution_count": 17,
   "metadata": {},
   "outputs": [
    {
     "data": {
      "text/plain": [
       "[0.15863945578231292,\n",
       " 9584.596006144386,\n",
       " 63,\n",
       " 0.47566218969130075,\n",
       " 2383.2023133242296]"
      ]
     },
     "execution_count": 17,
     "metadata": {},
     "output_type": "execute_result"
    }
   ],
   "source": [
    "extracted_data[0]"
   ]
  },
  {
   "cell_type": "code",
   "execution_count": 4,
   "metadata": {},
   "outputs": [
    {
     "ename": "NameError",
     "evalue": "name 'train' is not defined",
     "output_type": "error",
     "traceback": [
      "\u001b[1;31m---------------------------------------------------------------------------\u001b[0m",
      "\u001b[1;31mNameError\u001b[0m                                 Traceback (most recent call last)",
      "\u001b[1;32mc:\\Users\\gonza\\OneDrive\\Documentos\\Gonzalo\\Especializacion\\inteligencia_embebida\\esp32_loopback\\python\\sound_classify_train.ipynb Cell 19\u001b[0m in \u001b[0;36m<cell line: 7>\u001b[1;34m()\u001b[0m\n\u001b[0;32m      <a href='vscode-notebook-cell:/c%3A/Users/gonza/OneDrive/Documentos/Gonzalo/Especializacion/inteligencia_embebida/esp32_loopback/python/sound_classify_train.ipynb#X24sZmlsZQ%3D%3D?line=3'>4</a>\u001b[0m colnames \u001b[39m=\u001b[39m [\u001b[39m\"\u001b[39m\u001b[39mDuracion\u001b[39m\u001b[39m\"\u001b[39m, \u001b[39m\"\u001b[39m\u001b[39mCruces\u001b[39m\u001b[39m\"\u001b[39m, \u001b[39m\"\u001b[39m\u001b[39mMaximo\u001b[39m\u001b[39m\"\u001b[39m, \u001b[39m\"\u001b[39m\u001b[39mSimetria\u001b[39m\u001b[39m\"\u001b[39m, \u001b[39m\"\u001b[39m\u001b[39mDesvio\u001b[39m\u001b[39m\"\u001b[39m]\n\u001b[0;32m      <a href='vscode-notebook-cell:/c%3A/Users/gonza/OneDrive/Documentos/Gonzalo/Especializacion/inteligencia_embebida/esp32_loopback/python/sound_classify_train.ipynb#X24sZmlsZQ%3D%3D?line=5'>6</a>\u001b[0m df_train \u001b[39m=\u001b[39m pd\u001b[39m.\u001b[39mDataFrame(extracted_data, columns\u001b[39m=\u001b[39mcolnames)\n\u001b[1;32m----> <a href='vscode-notebook-cell:/c%3A/Users/gonza/OneDrive/Documentos/Gonzalo/Especializacion/inteligencia_embebida/esp32_loopback/python/sound_classify_train.ipynb#X24sZmlsZQ%3D%3D?line=6'>7</a>\u001b[0m df_train\u001b[39m.\u001b[39minsert(\u001b[39mlen\u001b[39m(df_train\u001b[39m.\u001b[39mcolumns), \u001b[39m\"\u001b[39m\u001b[39mClass\u001b[39m\u001b[39m\"\u001b[39m, train[\u001b[39m\"\u001b[39m\u001b[39mlabel\u001b[39m\u001b[39m\"\u001b[39m])\n\u001b[0;32m      <a href='vscode-notebook-cell:/c%3A/Users/gonza/OneDrive/Documentos/Gonzalo/Especializacion/inteligencia_embebida/esp32_loopback/python/sound_classify_train.ipynb#X24sZmlsZQ%3D%3D?line=8'>9</a>\u001b[0m seaborn\u001b[39m.\u001b[39mpairplot(df_train,\n\u001b[0;32m     <a href='vscode-notebook-cell:/c%3A/Users/gonza/OneDrive/Documentos/Gonzalo/Especializacion/inteligencia_embebida/esp32_loopback/python/sound_classify_train.ipynb#X24sZmlsZQ%3D%3D?line=9'>10</a>\u001b[0m                  \u001b[39mvars\u001b[39m\u001b[39m=\u001b[39mcolnames,\n\u001b[0;32m     <a href='vscode-notebook-cell:/c%3A/Users/gonza/OneDrive/Documentos/Gonzalo/Especializacion/inteligencia_embebida/esp32_loopback/python/sound_classify_train.ipynb#X24sZmlsZQ%3D%3D?line=10'>11</a>\u001b[0m                  hue\u001b[39m=\u001b[39m\u001b[39m\"\u001b[39m\u001b[39mClass\u001b[39m\u001b[39m\"\u001b[39m,\n\u001b[0;32m     <a href='vscode-notebook-cell:/c%3A/Users/gonza/OneDrive/Documentos/Gonzalo/Especializacion/inteligencia_embebida/esp32_loopback/python/sound_classify_train.ipynb#X24sZmlsZQ%3D%3D?line=11'>12</a>\u001b[0m                  plot_kws\u001b[39m=\u001b[39m{\u001b[39m'\u001b[39m\u001b[39malpha\u001b[39m\u001b[39m'\u001b[39m:\u001b[39m0.2\u001b[39m},\n\u001b[0;32m     <a href='vscode-notebook-cell:/c%3A/Users/gonza/OneDrive/Documentos/Gonzalo/Especializacion/inteligencia_embebida/esp32_loopback/python/sound_classify_train.ipynb#X24sZmlsZQ%3D%3D?line=12'>13</a>\u001b[0m                  palette\u001b[39m=\u001b[39m\u001b[39m\"\u001b[39m\u001b[39mbright\u001b[39m\u001b[39m\"\u001b[39m)\n",
      "\u001b[1;31mNameError\u001b[0m: name 'train' is not defined"
     ]
    }
   ],
   "source": [
    "import pandas.testing as tm\n",
    "import seaborn\n",
    "\n",
    "colnames = [\"Duracion\", \"Cruces\", \"Maximo\", \"Simetria\", \"Desvio\"]\n",
    "\n",
    "df_train = pd.DataFrame(extracted_data, columns=colnames)\n",
    "df_train.insert(len(df_train.columns), \"Class\", train[\"label\"])\n",
    "\n",
    "seaborn.pairplot(df_train,\n",
    "                 vars=colnames,\n",
    "                 hue=\"Class\",\n",
    "                 plot_kws={'alpha':0.2},\n",
    "                 palette=\"bright\")"
   ]
  },
  {
   "cell_type": "code",
   "execution_count": null,
   "metadata": {},
   "outputs": [],
   "source": []
  },
  {
   "cell_type": "markdown",
   "metadata": {},
   "source": [
    "### Training"
   ]
  },
  {
   "cell_type": "code",
   "execution_count": 2,
   "metadata": {},
   "outputs": [
    {
     "ename": "NameError",
     "evalue": "name 'extracted_data' is not defined",
     "output_type": "error",
     "traceback": [
      "\u001b[1;31m---------------------------------------------------------------------------\u001b[0m",
      "\u001b[1;31mNameError\u001b[0m                                 Traceback (most recent call last)",
      "\u001b[1;32mc:\\Users\\gonza\\OneDrive\\Documentos\\Gonzalo\\Especializacion\\inteligencia_embebida\\esp32_loopback\\python\\sound_classify_train.ipynb Cell 22\u001b[0m in \u001b[0;36m<cell line: 1>\u001b[1;34m()\u001b[0m\n\u001b[1;32m----> <a href='vscode-notebook-cell:/c%3A/Users/gonza/OneDrive/Documentos/Gonzalo/Especializacion/inteligencia_embebida/esp32_loopback/python/sound_classify_train.ipynb#X30sZmlsZQ%3D%3D?line=0'>1</a>\u001b[0m X_data \u001b[39m=\u001b[39m np\u001b[39m.\u001b[39marray(extracted_data)\n\u001b[0;32m      <a href='vscode-notebook-cell:/c%3A/Users/gonza/OneDrive/Documentos/Gonzalo/Especializacion/inteligencia_embebida/esp32_loopback/python/sound_classify_train.ipynb#X30sZmlsZQ%3D%3D?line=1'>2</a>\u001b[0m X_data\u001b[39m.\u001b[39msize\n\u001b[0;32m      <a href='vscode-notebook-cell:/c%3A/Users/gonza/OneDrive/Documentos/Gonzalo/Especializacion/inteligencia_embebida/esp32_loopback/python/sound_classify_train.ipynb#X30sZmlsZQ%3D%3D?line=2'>3</a>\u001b[0m \u001b[39mlen\u001b[39m(extracted_data)\n",
      "\u001b[1;31mNameError\u001b[0m: name 'extracted_data' is not defined"
     ]
    }
   ],
   "source": [
    "X_data = np.array(extracted_data)\n",
    "X_data.size\n",
    "len(extracted_data)"
   ]
  },
  {
   "cell_type": "code",
   "execution_count": 23,
   "metadata": {},
   "outputs": [],
   "source": [
    "from itertools import count\n",
    "\n",
    "\n",
    "X_data = extracted_data\n",
    "y_data = train_labels.label.to_list()\n",
    "\n",
    "X_train = []\n",
    "y_train = []\n",
    "\n",
    "test_indexes = test_labels.filename.to_list()\n",
    "counter = 0\n",
    "for i, value in enumerate(extracted_data):\n",
    "    if value == []:\n",
    "        continue\n",
    "    if i not in test_indexes:\n",
    "        X_train.append(value)\n",
    "        y_train.append(str(y_data[counter]))\n",
    "        counter += 1\n"
   ]
  },
  {
   "cell_type": "code",
   "execution_count": 25,
   "metadata": {},
   "outputs": [],
   "source": [
    "X_train, X_test, y_train, y_test = train_test_split(X_train,\n",
    "                                                    y_train,\n",
    "                                                    test_size=0.33,\n",
    "                                                    random_state=42)"
   ]
  },
  {
   "cell_type": "code",
   "execution_count": 26,
   "metadata": {},
   "outputs": [
    {
     "name": "stdout",
     "output_type": "stream",
     "text": [
      "{'criterion': 'gini', 'max_depth': 2, 'splitter': 'best'}\n",
      "Grid search time: 0.22649480000836775 s\n",
      "              precision    recall  f1-score   support\n",
      "\n",
      "           0    0.35000   0.28000   0.31111        50\n",
      "           1    0.66532   0.88710   0.76037       186\n",
      "           2    0.68627   0.33981   0.45455       103\n",
      "\n",
      "    accuracy                        0.63127       339\n",
      "   macro avg    0.56720   0.50230   0.50868       339\n",
      "weighted avg    0.62518   0.63127   0.60119       339\n",
      "\n",
      "Training time: 0.0022217000368982553 s\n"
     ]
    }
   ],
   "source": [
    "models = {}\n",
    "params = {'criterion': ['gini','entropy'], 'splitter': ['best','random'], 'max_depth': [2, 3, 4]}\n",
    "model = tu.get_best_model(DecisionTreeClassifier, np.array(X_train), np.array(y_train), np.array(X_test), np.array(y_test), params, models, \"model_dt\") \n"
   ]
  },
  {
   "cell_type": "code",
   "execution_count": 29,
   "metadata": {},
   "outputs": [
    {
     "data": {
      "text/plain": [
       "[Text(0.5, 0.8333333333333334, 'X[4] <= 690.016\\ngini = 0.58\\nsamples = 687\\nvalue = [107, 386, 194]\\nclass = y[1]'),\n",
       " Text(0.25, 0.5, 'X[0] <= 0.022\\ngini = 0.489\\nsamples = 509\\nvalue = [66, 344, 99]\\nclass = y[1]'),\n",
       " Text(0.125, 0.16666666666666666, 'gini = 0.358\\nsamples = 229\\nvalue = [30, 180, 19]\\nclass = y[1]'),\n",
       " Text(0.375, 0.16666666666666666, 'gini = 0.559\\nsamples = 280\\nvalue = [36, 164, 80]\\nclass = y[1]'),\n",
       " Text(0.75, 0.5, 'X[2] <= 113.5\\ngini = 0.606\\nsamples = 178\\nvalue = [41, 42, 95]\\nclass = y[2]'),\n",
       " Text(0.625, 0.16666666666666666, 'gini = 0.638\\nsamples = 77\\nvalue = [31, 15, 31]\\nclass = y[0]'),\n",
       " Text(0.875, 0.16666666666666666, 'gini = 0.517\\nsamples = 101\\nvalue = [10, 27, 64]\\nclass = y[2]')]"
      ]
     },
     "execution_count": 29,
     "metadata": {},
     "output_type": "execute_result"
    },
    {
     "data": {
      "image/png": "[encoded data removed]",
      "text/plain": [
       "<Figure size 432x288 with 1 Axes>"
      ]
     },
     "metadata": {
      "needs_background": "light"
     },
     "output_type": "display_data"
    }
   ],
   "source": [
    "from turtle import width\n",
    "import matplotlib.pyplot as plt\n",
    "\n",
    "labels = {\n",
    "    0: \"bite\",\n",
    "    1: \"chew\",\n",
    "    2: \"chew_byte\"\n",
    "}\n",
    "\n",
    "\n",
    "tree.plot_tree(model.model, features_names=[], class_names=[\"bite\", \"chew\", \"chew_bite\"])\n"
   ]
  },
  {
   "cell_type": "code",
   "execution_count": 30,
   "metadata": {},
   "outputs": [
    {
     "data": {
      "text/plain": [
       "<Figure size 432x288 with 0 Axes>"
      ]
     },
     "metadata": {},
     "output_type": "display_data"
    }
   ],
   "source": [
    "plt.savefig('tree.png', format='png', bbox_inches = \"tight\", dpi=200)"
   ]
  }
 ],
 "metadata": {
  "kernelspec": {
   "display_name": "Python 3.10.4 64-bit",
   "language": "python",
   "name": "python3"
  },
  "language_info": {
   "codemirror_mode": {
    "name": "ipython",
    "version": 3
   },
   "file_extension": ".py",
   "mimetype": "text/x-python",
   "name": "python",
   "nbconvert_exporter": "python",
   "pygments_lexer": "ipython3",
   "version": "3.10.4"
  },
  "orig_nbformat": 4,
  "vscode": {
   "interpreter": {
    "hash": "25b967826fee24da2569b50746cf9fa4067dc6cfa635a17c8da9080146180dfa"
   }
  }
 },
 "nbformat": 4,
 "nbformat_minor": 2
}
